{
  "nbformat": 4,
  "nbformat_minor": 0,
  "metadata": {
    "colab": {
      "provenance": [],
      "include_colab_link": true
    },
    "kernelspec": {
      "name": "python3",
      "display_name": "Python 3"
    }
  },
  "cells": [
    {
      "cell_type": "markdown",
      "metadata": {
        "id": "view-in-github",
        "colab_type": "text"
      },
      "source": [
        "<a href=\"https://colab.research.google.com/github/wakuei095/1107/blob/main/B09090095.ipynb\" target=\"_parent\"><img src=\"https://colab.research.google.com/assets/colab-badge.svg\" alt=\"Open In Colab\"/></a>"
      ]
    },
    {
      "cell_type": "markdown",
      "metadata": {
        "id": "ijqsqapiFLTz"
      },
      "source": [
        "# 1.\n"
      ]
    },
    {
      "cell_type": "code",
      "metadata": {
        "id": "sXYJKLUPEY5h",
        "colab": {
          "base_uri": "https://localhost:8080/",
          "height": 333
        },
        "outputId": "1da0284e-ac9b-4d2e-e1ce-c971f0367cec"
      },
      "source": [
        "import numpy as np\n",
        "import matplotlib.pyplot as plt\n",
        "\n",
        "# 目標函數:y=x^2\n",
        "def func(x): return np.square(x)\n",
        "\n",
        "# 目標函數一階導數:dy/dx=2*x\n",
        "def dfunc(x): return 2 * x\n",
        "\n",
        "def GD(x_start, df, epochs, lr):\n",
        "    \"\"\"  梯度下降法。給定起始點與目標函數的一階導函數，求在epochs次反覆運算中x的更新值\n",
        "        :param x_start: x的起始點\n",
        "        :param df: 目標函數的一階導函數\n",
        "        :param epochs: 反覆運算週期\n",
        "        :param lr: 學習率\n",
        "        :return: x在每次反覆運算後的位置（包括起始點），長度為epochs+1\n",
        "     \"\"\"\n",
        "    xs = np.zeros(epochs+1)\n",
        "    x = x_start\n",
        "    xs[0] = x\n",
        "    for i in range(epochs):\n",
        "        dx = df(x)\n",
        "        # v表示x要改變的幅度\n",
        "        v = - dx * lr\n",
        "        x += v\n",
        "        xs[i+1] = x\n",
        "    return xs\n",
        "\n",
        "# Main\n",
        "# 起始權重\n",
        "x_start = 5\n",
        "# 執行週期數\n",
        "epochs = 15\n",
        "# 學習率\n",
        "lr = 0.3\n",
        "# 梯度下降法\n",
        "x = GD(x_start, dfunc, epochs, lr=lr)\n",
        "print (x)\n",
        "# 輸出：[-5.     -2.     -0.8    -0.32   -0.128  -0.0512]\n",
        "\n",
        "color = 'r'\n",
        "#plt.plot(line_x, line_y, c='b')\n",
        "from numpy import arange\n",
        "t = arange(-6.0, 6.0, 0.01) # 生成一組時間數列\n",
        "plt.plot(t, func(t), c='b')\n",
        "plt.plot(x, func(x), c=color, label='lr={}'.format(lr))\n",
        "plt.scatter(x, func(x), c=color, )\n",
        "plt.legend() # 顯示圖例\n",
        "\n",
        "plt.show() # 顯示圖形"
      ],
      "execution_count": null,
      "outputs": [
        {
          "output_type": "stream",
          "text": [
            "[5.00000000e+00 2.00000000e+00 8.00000000e-01 3.20000000e-01\n",
            " 1.28000000e-01 5.12000000e-02 2.04800000e-02 8.19200000e-03\n",
            " 3.27680000e-03 1.31072000e-03 5.24288000e-04 2.09715200e-04\n",
            " 8.38860800e-05 3.35544320e-05 1.34217728e-05 5.36870912e-06]\n"
          ],
          "name": "stdout"
        },
        {
          "output_type": "display_data",
          "data": {
            "image/png": "[encoded data removed]",
            "text/plain": [
              "<Figure size 432x288 with 1 Axes>"
            ]
          },
          "metadata": {
            "tags": [],
            "needs_background": "light"
          }
        }
      ]
    },
    {
      "cell_type": "markdown",
      "source": [
        "# 2.\n"
      ],
      "metadata": {
        "id": "xxE787TX2qZX"
      }
    },
    {
      "cell_type": "code",
      "source": [
        "from tensorflow import keras\n",
        "from keras.models import Sequential\n",
        "from keras.layers import Dense\n",
        "\n",
        "import numpy as np\n",
        "data = np.random.random((1000, 10)) #隨機產生1000筆資料，每筆資料包含十個float數字\n",
        "labels = np.random.randint(2, size=(1000, 1)) #隨機產生1000筆資料，每筆資料上限為2(意思就是0 或 1)\n",
        "print(np.shape(data))\n",
        "print(data[0])\n",
        "print(np.shape(labels))\n",
        "print(labels[0])\n",
        "\n",
        "model = Sequential() # 建立 Sequential 模型\n",
        "model.add(Dense(32, activation='relu', input_dim=10))\n",
        "model.add(Dense(1, activation='sigmoid'))\n",
        "model.compile(optimizer='rmsprop', loss='binary_crossentropy', metrics=['accuracy'])\n",
        "\n",
        "model.fit(data, labels, epochs=10, batch_size=32)\n",
        "\n",
        "score=model.evaluate(data, labels)\n",
        "print(score[1]) # 評估模型性能，並輸出 accuracy 分數"
      ],
      "metadata": {
        "colab": {
          "base_uri": "https://localhost:8080/"
        },
        "id": "vBWbxcqP26Lf",
        "outputId": "8759dc04-61f8-47e2-a3e2-9aa2e2aa8166"
      },
      "execution_count": null,
      "outputs": [
        {
          "output_type": "stream",
          "name": "stdout",
          "text": [
            "(1000, 10)\n",
            "[0.63649567 0.24696066 0.82332653 0.82912942 0.0019336  0.99585359\n",
            " 0.14903417 0.87720815 0.88469436 0.77215729]\n",
            "(1000, 1)\n",
            "[1]\n",
            "Epoch 1/10\n",
            "32/32 [==============================] - 1s 2ms/step - loss: 0.6971 - accuracy: 0.5070\n",
            "Epoch 2/10\n",
            "32/32 [==============================] - 0s 2ms/step - loss: 0.6951 - accuracy: 0.5290\n",
            "Epoch 3/10\n",
            "32/32 [==============================] - 0s 2ms/step - loss: 0.6940 - accuracy: 0.5340\n",
            "Epoch 4/10\n",
            "32/32 [==============================] - 0s 2ms/step - loss: 0.6931 - accuracy: 0.5320\n",
            "Epoch 5/10\n",
            "32/32 [==============================] - 0s 2ms/step - loss: 0.6924 - accuracy: 0.5260\n",
            "Epoch 6/10\n",
            "32/32 [==============================] - 0s 2ms/step - loss: 0.6922 - accuracy: 0.5350\n",
            "Epoch 7/10\n",
            "32/32 [==============================] - 0s 2ms/step - loss: 0.6913 - accuracy: 0.5410\n",
            "Epoch 8/10\n",
            "32/32 [==============================] - 0s 2ms/step - loss: 0.6908 - accuracy: 0.5450\n",
            "Epoch 9/10\n",
            "32/32 [==============================] - 0s 2ms/step - loss: 0.6899 - accuracy: 0.5370\n",
            "Epoch 10/10\n",
            "32/32 [==============================] - 0s 2ms/step - loss: 0.6900 - accuracy: 0.5450\n",
            "32/32 [==============================] - 0s 2ms/step - loss: 0.6885 - accuracy: 0.5530\n",
            "0.5529999732971191\n"
          ]
        }
      ]
    },
    {
      "cell_type": "markdown",
      "source": [
        "# 3."
      ],
      "metadata": {
        "id": "quS8CG8J3tkp"
      }
    },
    {
      "cell_type": "code",
      "source": [
        "\n",
        "from tensorflow import keras\n",
        "from keras.models import Sequential\n",
        "from keras.layers import Dense, Dropout\n",
        "\n",
        "model = Sequential() # 建立 Sequential 模型\n",
        "model.add(Dense(512, activation='relu', input_dim=784))\n",
        "model.add(Dropout(0.2))\n",
        "model.add(Dense(10, activation='softmax'))\n",
        "model.compile(optimizer='adam', loss='categorical_crossentropy', metrics=['accuracy'])\n",
        "\n",
        "import numpy as np\n",
        "data = np.random.random((1000, 784))\n",
        "labels = np.random.randint(10, size=(1000, 10))\n",
        "\n",
        "model.fit(data, labels, epochs=10, batch_size=32)\n",
        "\n",
        "score=model.evaluate(data, labels)\n",
        "print(score[1]) # 評估模型性能，並輸出 accuracy 分數"
      ],
      "metadata": {
        "colab": {
          "base_uri": "https://localhost:8080/"
        },
        "id": "rPx9_MrC3yGg",
        "outputId": "5deb6b69-8640-4fc9-88fc-e091c1e7594c"
      },
      "execution_count": null,
      "outputs": [
        {
          "output_type": "stream",
          "name": "stdout",
          "text": [
            "Epoch 1/10\n",
            "32/32 [==============================] - 1s 7ms/step - loss: 351.2970 - accuracy: 0.0780\n",
            "Epoch 2/10\n",
            "32/32 [==============================] - 0s 6ms/step - loss: 1089.9937 - accuracy: 0.0940\n",
            "Epoch 3/10\n",
            "32/32 [==============================] - 0s 6ms/step - loss: 2012.2959 - accuracy: 0.0950\n",
            "Epoch 4/10\n",
            "32/32 [==============================] - 0s 6ms/step - loss: 2878.5420 - accuracy: 0.0900\n",
            "Epoch 5/10\n",
            "32/32 [==============================] - 0s 7ms/step - loss: 3950.1506 - accuracy: 0.0950\n",
            "Epoch 6/10\n",
            "32/32 [==============================] - 0s 6ms/step - loss: 4967.9243 - accuracy: 0.0780\n",
            "Epoch 7/10\n",
            "32/32 [==============================] - 0s 6ms/step - loss: 6216.9561 - accuracy: 0.0800\n",
            "Epoch 8/10\n",
            "32/32 [==============================] - 0s 6ms/step - loss: 7485.7178 - accuracy: 0.0880\n",
            "Epoch 9/10\n",
            "32/32 [==============================] - 0s 7ms/step - loss: 7946.2520 - accuracy: 0.0870\n",
            "Epoch 10/10\n",
            "32/32 [==============================] - 0s 6ms/step - loss: 9006.1855 - accuracy: 0.0970\n",
            "32/32 [==============================] - 0s 3ms/step - loss: 6780.2700 - accuracy: 0.0820\n",
            "0.0820000022649765\n"
          ]
        }
      ]
    },
    {
      "cell_type": "markdown",
      "source": [
        "# 4."
      ],
      "metadata": {
        "id": "v17KEUX84Mgk"
      }
    },
    {
      "cell_type": "code",
      "source": [
        "from tensorflow import keras\n",
        "from keras.models import Sequential\n",
        "from keras.layers import Dense, Conv2D, MaxPooling2D, Flatten\n",
        "model=Sequential() # 建立 Sequential 模型\n",
        "model.add(Conv2D(filters=16, kernel_size=(5, 5), input_shape=(28, 28, 1), activation='relu'))\n",
        "model.add(MaxPooling2D(pool_size=(2, 2)))\n",
        "#model.add(Conv2D(filters=36, kernel_size=(5, 5), activation='relu'))\n",
        "#model.add(MaxPooling2D(pool_size=(2, 2)))\n",
        "model.add(Flatten())\n",
        "model.add(Dense(10, activation='softmax'))\n",
        "model.summary() # 顯示模型\n",
        "model.compile(optimizer='rmsprop', loss='categorical_crossentropy', metrics=['accuracy'])\n"
      ],
      "metadata": {
        "colab": {
          "base_uri": "https://localhost:8080/"
        },
        "id": "-jbLZXHE4ZaS",
        "outputId": "3cb7af85-dbb5-4078-ae75-0b080ef5c917"
      },
      "execution_count": null,
      "outputs": [
        {
          "output_type": "stream",
          "name": "stdout",
          "text": [
            "Model: \"sequential_2\"\n",
            "_________________________________________________________________\n",
            " Layer (type)                Output Shape              Param #   \n",
            "=================================================================\n",
            " conv2d (Conv2D)             (None, 24, 24, 16)        416       \n",
            "                                                                 \n",
            " max_pooling2d (MaxPooling2  (None, 12, 12, 16)        0         \n",
            " D)                                                              \n",
            "                                                                 \n",
            " flatten (Flatten)           (None, 2304)              0         \n",
            "                                                                 \n",
            " dense_4 (Dense)             (None, 10)                23050     \n",
            "                                                                 \n",
            "=================================================================\n",
            "Total params: 23466 (91.66 KB)\n",
            "Trainable params: 23466 (91.66 KB)\n",
            "Non-trainable params: 0 (0.00 Byte)\n",
            "_________________________________________________________________\n"
          ]
        }
      ]
    },
    {
      "cell_type": "code",
      "source": [
        "mnist=keras.datasets.mnist # 載入 MNIST 手寫數字資料集\n",
        "(train_data, train_label), (test_data, test_label) = mnist.load_data()\n",
        "test_label_original=test_label #for crosstab\n",
        "train_label = keras.utils.to_categorical(train_label)\n",
        "test_label = keras.utils.to_categorical(test_label)"
      ],
      "metadata": {
        "colab": {
          "base_uri": "https://localhost:8080/"
        },
        "id": "JhMi8GPi49Wq",
        "outputId": "01e5bf05-acad-45e4-9804-86ea241c5104"
      },
      "execution_count": null,
      "outputs": [
        {
          "output_type": "stream",
          "name": "stdout",
          "text": [
            "Downloading data from https://storage.googleapis.com/tensorflow/tf-keras-datasets/mnist.npz\n",
            "11490434/11490434 [==============================] - 0s 0us/step\n"
          ]
        }
      ]
    },
    {
      "cell_type": "code",
      "source": [
        "score=model.evaluate(test_data, test_label) # 使用測試集評估模型性能\n",
        "print(score[1]) # 印出模型的準確度"
      ],
      "metadata": {
        "colab": {
          "base_uri": "https://localhost:8080/"
        },
        "id": "LbzeFty95E-S",
        "outputId": "8774b750-5df7-49bb-9c6f-8cfcef8058a6"
      },
      "execution_count": null,
      "outputs": [
        {
          "output_type": "stream",
          "name": "stdout",
          "text": [
            "313/313 [==============================] - 2s 4ms/step - loss: 62.1056 - accuracy: 0.0986\n",
            "0.09860000014305115\n"
          ]
        }
      ]
    },
    {
      "cell_type": "markdown",
      "source": [
        "# 5."
      ],
      "metadata": {
        "id": "0VlTM0Tv4wkn"
      }
    },
    {
      "cell_type": "code",
      "source": [
        "from tensorflow import keras\n",
        "from keras.models import Sequential\n",
        "from keras.layers import Dense, Flatten\n",
        "model=Sequential() # 建立 Sequential 模型\n",
        "model.add(Flatten())\n",
        "model.add(Dense(32, activation='relu', input_dim=784))\n",
        "model.add(Dense(10, activation='sigmoid'))\n",
        "model.compile(optimizer='rmsprop', loss='sparse_categorical_crossentropy', metrics=['accuracy'])\n",
        "\n",
        "mnist=keras.datasets.mnist\n",
        "(train_data, train_label), (test_data, test_label) = mnist.load_data() # 載入 MNIST 手寫數字資料集\n",
        "\n",
        "print(type(train_data))\n",
        "print(train_data.shape)\n",
        "print(type(train_label))\n",
        "print(train_label.shape)\n",
        "print(test_data.shape)\n",
        "print(test_label.shape)\n",
        "# 印出資料的類型和形狀"
      ],
      "metadata": {
        "id": "1fENwQEC4ySn"
      },
      "execution_count": null,
      "outputs": []
    },
    {
      "cell_type": "code",
      "source": [
        "print(train_label[0]) # 打印第一個訓練樣本的標籤\n",
        "print(train_data[0]) # 打印第一個訓練樣本的圖像數據"
      ],
      "metadata": {
        "colab": {
          "base_uri": "https://localhost:8080/"
        },
        "id": "fcDyAiVS5zWp",
        "outputId": "2fedda31-5ee9-41f6-dc3e-ef4facf5a30a"
      },
      "execution_count": null,
      "outputs": [
        {
          "output_type": "stream",
          "name": "stdout",
          "text": [
            "5\n",
            "[[  0   0   0   0   0   0   0   0   0   0   0   0   0   0   0   0   0   0\n",
            "    0   0   0   0   0   0   0   0   0   0]\n",
            " [  0   0   0   0   0   0   0   0   0   0   0   0   0   0   0   0   0   0\n",
            "    0   0   0   0   0   0   0   0   0   0]\n",
            " [  0   0   0   0   0   0   0   0   0   0   0   0   0   0   0   0   0   0\n",
            "    0   0   0   0   0   0   0   0   0   0]\n",
            " [  0   0   0   0   0   0   0   0   0   0   0   0   0   0   0   0   0   0\n",
            "    0   0   0   0   0   0   0   0   0   0]\n",
            " [  0   0   0   0   0   0   0   0   0   0   0   0   0   0   0   0   0   0\n",
            "    0   0   0   0   0   0   0   0   0   0]\n",
            " [  0   0   0   0   0   0   0   0   0   0   0   0   3  18  18  18 126 136\n",
            "  175  26 166 255 247 127   0   0   0   0]\n",
            " [  0   0   0   0   0   0   0   0  30  36  94 154 170 253 253 253 253 253\n",
            "  225 172 253 242 195  64   0   0   0   0]\n",
            " [  0   0   0   0   0   0   0  49 238 253 253 253 253 253 253 253 253 251\n",
            "   93  82  82  56  39   0   0   0   0   0]\n",
            " [  0   0   0   0   0   0   0  18 219 253 253 253 253 253 198 182 247 241\n",
            "    0   0   0   0   0   0   0   0   0   0]\n",
            " [  0   0   0   0   0   0   0   0  80 156 107 253 253 205  11   0  43 154\n",
            "    0   0   0   0   0   0   0   0   0   0]\n",
            " [  0   0   0   0   0   0   0   0   0  14   1 154 253  90   0   0   0   0\n",
            "    0   0   0   0   0   0   0   0   0   0]\n",
            " [  0   0   0   0   0   0   0   0   0   0   0 139 253 190   2   0   0   0\n",
            "    0   0   0   0   0   0   0   0   0   0]\n",
            " [  0   0   0   0   0   0   0   0   0   0   0  11 190 253  70   0   0   0\n",
            "    0   0   0   0   0   0   0   0   0   0]\n",
            " [  0   0   0   0   0   0   0   0   0   0   0   0  35 241 225 160 108   1\n",
            "    0   0   0   0   0   0   0   0   0   0]\n",
            " [  0   0   0   0   0   0   0   0   0   0   0   0   0  81 240 253 253 119\n",
            "   25   0   0   0   0   0   0   0   0   0]\n",
            " [  0   0   0   0   0   0   0   0   0   0   0   0   0   0  45 186 253 253\n",
            "  150  27   0   0   0   0   0   0   0   0]\n",
            " [  0   0   0   0   0   0   0   0   0   0   0   0   0   0   0  16  93 252\n",
            "  253 187   0   0   0   0   0   0   0   0]\n",
            " [  0   0   0   0   0   0   0   0   0   0   0   0   0   0   0   0   0 249\n",
            "  253 249  64   0   0   0   0   0   0   0]\n",
            " [  0   0   0   0   0   0   0   0   0   0   0   0   0   0  46 130 183 253\n",
            "  253 207   2   0   0   0   0   0   0   0]\n",
            " [  0   0   0   0   0   0   0   0   0   0   0   0  39 148 229 253 253 253\n",
            "  250 182   0   0   0   0   0   0   0   0]\n",
            " [  0   0   0   0   0   0   0   0   0   0  24 114 221 253 253 253 253 201\n",
            "   78   0   0   0   0   0   0   0   0   0]\n",
            " [  0   0   0   0   0   0   0   0  23  66 213 253 253 253 253 198  81   2\n",
            "    0   0   0   0   0   0   0   0   0   0]\n",
            " [  0   0   0   0   0   0  18 171 219 253 253 253 253 195  80   9   0   0\n",
            "    0   0   0   0   0   0   0   0   0   0]\n",
            " [  0   0   0   0  55 172 226 253 253 253 253 244 133  11   0   0   0   0\n",
            "    0   0   0   0   0   0   0   0   0   0]\n",
            " [  0   0   0   0 136 253 253 253 212 135 132  16   0   0   0   0   0   0\n",
            "    0   0   0   0   0   0   0   0   0   0]\n",
            " [  0   0   0   0   0   0   0   0   0   0   0   0   0   0   0   0   0   0\n",
            "    0   0   0   0   0   0   0   0   0   0]\n",
            " [  0   0   0   0   0   0   0   0   0   0   0   0   0   0   0   0   0   0\n",
            "    0   0   0   0   0   0   0   0   0   0]\n",
            " [  0   0   0   0   0   0   0   0   0   0   0   0   0   0   0   0   0   0\n",
            "    0   0   0   0   0   0   0   0   0   0]]\n"
          ]
        }
      ]
    },
    {
      "cell_type": "markdown",
      "source": [
        "# 6."
      ],
      "metadata": {
        "id": "-g_RgPzS4ytc"
      }
    },
    {
      "cell_type": "code",
      "source": [
        "from tensorflow import keras\n",
        "from keras.models import Sequential\n",
        "from keras.layers import Dense, Conv2D, MaxPooling2D, Flatten\n",
        "model=Sequential() # 建立 Sequential 模型\n",
        "model.add(Conv2D(filters=64, kernel_size=(5, 5), input_shape=(32, 32, 3), activation='relu'))\n",
        "model.add(Conv2D(filters=64, kernel_size=(5, 5), activation='relu'))\n",
        "model.add(MaxPooling2D(pool_size=2))\n",
        "model.add(Conv2D(filters=128, kernel_size=(5, 5), activation='relu'))\n",
        "model.add(Conv2D(filters=128, kernel_size=(5, 5), activation='relu'))\n",
        "model.add(MaxPooling2D(pool_size=2))\n",
        "model.add(Flatten())\n",
        "model.add(Dense(10, activation='softmax'))\n",
        "model.summary() # 顯示模型摘要\n",
        "model.compile(optimizer='rmsprop', loss='categorical_crossentropy', metrics=['accuracy']) # 編譯模型"
      ],
      "metadata": {
        "colab": {
          "base_uri": "https://localhost:8080/"
        },
        "id": "cPLJVDvG4z_q",
        "outputId": "16d30913-1946-434d-8a5c-00c0e42153a0"
      },
      "execution_count": null,
      "outputs": [
        {
          "output_type": "stream",
          "name": "stdout",
          "text": [
            "Model: \"sequential_6\"\n",
            "_________________________________________________________________\n",
            " Layer (type)                Output Shape              Param #   \n",
            "=================================================================\n",
            " conv2d_1 (Conv2D)           (None, 28, 28, 64)        4864      \n",
            "                                                                 \n",
            " conv2d_2 (Conv2D)           (None, 24, 24, 64)        102464    \n",
            "                                                                 \n",
            " max_pooling2d_1 (MaxPoolin  (None, 12, 12, 64)        0         \n",
            " g2D)                                                            \n",
            "                                                                 \n",
            " conv2d_3 (Conv2D)           (None, 8, 8, 128)         204928    \n",
            "                                                                 \n",
            " conv2d_4 (Conv2D)           (None, 4, 4, 128)         409728    \n",
            "                                                                 \n",
            " max_pooling2d_2 (MaxPoolin  (None, 2, 2, 128)         0         \n",
            " g2D)                                                            \n",
            "                                                                 \n",
            " flatten_4 (Flatten)         (None, 512)               0         \n",
            "                                                                 \n",
            " dense_11 (Dense)            (None, 10)                5130      \n",
            "                                                                 \n",
            "=================================================================\n",
            "Total params: 727114 (2.77 MB)\n",
            "Trainable params: 727114 (2.77 MB)\n",
            "Non-trainable params: 0 (0.00 Byte)\n",
            "_________________________________________________________________\n"
          ]
        }
      ]
    },
    {
      "cell_type": "code",
      "source": [
        "cifar10=keras.datasets.cifar10 # 載入 CIFAR-10 資料集\n",
        "(train_data, train_label), (test_data, test_label) = cifar10.load_data()\n",
        "train_label_original=train_label\n",
        "train_label = keras.utils.to_categorical(train_label)\n",
        "test_label = keras.utils.to_categorical(test_label)\n",
        "\n",
        "\n",
        "import matplotlib.pyplot as plt\n",
        "category=['airplane','automobile','bird','cat','deer','dog','frog','horse','ship','truck']\n",
        "plt.imshow(train_data[0])\n",
        "plt.title(category[int(train_label_original[0])])\n",
        "plt.show()\n",
        "print(train_label_original[0]) # 打印第一張圖片的原始標籤"
      ],
      "metadata": {
        "colab": {
          "base_uri": "https://localhost:8080/",
          "height": 504
        },
        "id": "78oHXMyl6Ob0",
        "outputId": "68e9ce61-56c8-4fb1-e1a1-34aef2059dc2"
      },
      "execution_count": null,
      "outputs": [
        {
          "output_type": "stream",
          "name": "stdout",
          "text": [
            "Downloading data from https://www.cs.toronto.edu/~kriz/cifar-10-python.tar.gz\n",
            "170498071/170498071 [==============================] - 4s 0us/step\n"
          ]
        },
        {
          "output_type": "display_data",
          "data": {
            "text/plain": [
              "<Figure size 640x480 with 1 Axes>"
            ],
            "image/png": "[encoded data removed]"
          },
          "metadata": {}
        },
        {
          "output_type": "stream",
          "name": "stdout",
          "text": [
            "[6]\n"
          ]
        }
      ]
    },
    {
      "cell_type": "code",
      "source": [
        "score=model.evaluate(test_data, test_label) # 使用測試集評估模型性能\n",
        "print(score[1])"
      ],
      "metadata": {
        "colab": {
          "base_uri": "https://localhost:8080/"
        },
        "id": "YiNAeLKl6vVu",
        "outputId": "a4e7c25d-92a9-4bd1-bbc5-921feff14a72"
      },
      "execution_count": null,
      "outputs": [
        {
          "output_type": "stream",
          "name": "stdout",
          "text": [
            "313/313 [==============================] - 31s 99ms/step - loss: 2.1343 - accuracy: 0.2141\n",
            "0.21410000324249268\n"
          ]
        }
      ]
    },
    {
      "cell_type": "markdown",
      "source": [
        "# 7."
      ],
      "metadata": {
        "id": "c4hOsU5x40mY"
      }
    },
    {
      "cell_type": "code",
      "source": [
        "!wget https://github.com/shhuangmust/AI/raw/111-2/Google_Stock_Price_Train.csv #下載檔案\n",
        "!wget https://github.com/shhuangmust/AI/raw/111-2/Google_Stock_Price_Test.csv #下載檔案"
      ],
      "metadata": {
        "colab": {
          "base_uri": "https://localhost:8080/"
        },
        "id": "KnhlxLN942HH",
        "outputId": "b719ca11-7533-43b1-d1b7-4ca064c733ea"
      },
      "execution_count": null,
      "outputs": [
        {
          "output_type": "stream",
          "name": "stdout",
          "text": [
            "--2023-11-07 08:41:56--  https://github.com/shhuangmust/AI/raw/111-2/Google_Stock_Price_Train.csv\n",
            "Resolving github.com (github.com)... 140.82.112.3\n",
            "Connecting to github.com (github.com)|140.82.112.3|:443... connected.\n",
            "HTTP request sent, awaiting response... 302 Found\n",
            "Location: https://raw.githubusercontent.com/shhuangmust/AI/111-2/Google_Stock_Price_Train.csv [following]\n",
            "--2023-11-07 08:41:56--  https://raw.githubusercontent.com/shhuangmust/AI/111-2/Google_Stock_Price_Train.csv\n",
            "Resolving raw.githubusercontent.com (raw.githubusercontent.com)... 185.199.108.133, 185.199.109.133, 185.199.110.133, ...\n",
            "Connecting to raw.githubusercontent.com (raw.githubusercontent.com)|185.199.108.133|:443... connected.\n",
            "HTTP request sent, awaiting response... 200 OK\n",
            "Length: 63488 (62K) [text/plain]\n",
            "Saving to: ‘Google_Stock_Price_Train.csv’\n",
            "\n",
            "Google_Stock_Price_ 100%[===================>]  62.00K  --.-KB/s    in 0.003s  \n",
            "\n",
            "2023-11-07 08:41:56 (20.4 MB/s) - ‘Google_Stock_Price_Train.csv’ saved [63488/63488]\n",
            "\n",
            "--2023-11-07 08:41:56--  https://github.com/shhuangmust/AI/raw/111-2/Google_Stock_Price_Test.csv\n",
            "Resolving github.com (github.com)... 140.82.114.3\n",
            "Connecting to github.com (github.com)|140.82.114.3|:443... connected.\n",
            "HTTP request sent, awaiting response... 302 Found\n",
            "Location: https://raw.githubusercontent.com/shhuangmust/AI/111-2/Google_Stock_Price_Test.csv [following]\n",
            "--2023-11-07 08:41:56--  https://raw.githubusercontent.com/shhuangmust/AI/111-2/Google_Stock_Price_Test.csv\n",
            "Resolving raw.githubusercontent.com (raw.githubusercontent.com)... 185.199.110.133, 185.199.108.133, 185.199.111.133, ...\n",
            "Connecting to raw.githubusercontent.com (raw.githubusercontent.com)|185.199.110.133|:443... connected.\n",
            "HTTP request sent, awaiting response... 200 OK\n",
            "Length: 1029 (1.0K) [text/plain]\n",
            "Saving to: ‘Google_Stock_Price_Test.csv’\n",
            "\n",
            "Google_Stock_Price_ 100%[===================>]   1.00K  --.-KB/s    in 0s      \n",
            "\n",
            "2023-11-07 08:41:56 (46.1 MB/s) - ‘Google_Stock_Price_Test.csv’ saved [1029/1029]\n",
            "\n"
          ]
        }
      ]
    },
    {
      "cell_type": "code",
      "source": [
        "# Import the libraries\n",
        "import numpy as np\n",
        "import matplotlib.pyplot as plt  # for 畫圖用\n",
        "import pandas as pd\n",
        "\n",
        "# Import the training set\n",
        "dataset_train = pd.read_csv('Google_Stock_Price_Train.csv')  # 讀取訓練集\n",
        "training_set = dataset_train.iloc[:, 1:2].values  # 取「Open」欄位值\n",
        "\n",
        "# Feature Scaling\n",
        "from sklearn.preprocessing import MinMaxScaler\n",
        "\n",
        "sc = MinMaxScaler(feature_range = (0, 1))\n",
        "training_set_scaled = sc.fit_transform(training_set)\n",
        "\n",
        "X_train = []   #預測點的前 60 天的資料\n",
        "y_train = []   #預測點\n",
        "for i in range(60, 1258):  # 1258 是訓練集總數\n",
        "    X_train.append(training_set_scaled[i-60:i, 0])\n",
        "    y_train.append(training_set_scaled[i, 0])\n",
        "X_train, y_train = np.array(X_train), np.array(y_train)  # 轉成numpy array的格式，以利輸入 RNN\n",
        "\n",
        "X_train = np.reshape(X_train, (X_train.shape[0], X_train.shape[1], 1))\n",
        "\n",
        "\n",
        "# Import the Keras libraries and packages\n",
        "from keras.models import Sequential\n",
        "from keras.layers import Dense\n",
        "from keras.layers import LSTM\n",
        "from keras.layers import Dropout\n",
        "\n",
        "# Initialising the RNN\n",
        "regressor = Sequential()\n",
        "# Adding the first LSTM layer and some Dropout regularisation\n",
        "regressor.add(LSTM(units = 50, return_sequences = True, input_shape = (X_train.shape[1], 1)))\n",
        "regressor.add(Dropout(0.2))\n",
        "\n",
        "# Adding a second LSTM layer and some Dropout regularisation\n",
        "regressor.add(LSTM(units = 50, return_sequences = True))\n",
        "regressor.add(Dropout(0.2))\n",
        "\n",
        "# Adding a third LSTM layer and some Dropout regularisation\n",
        "regressor.add(LSTM(units = 50, return_sequences = True))\n",
        "regressor.add(Dropout(0.2))\n",
        "\n",
        "# Adding a fourth LSTM layer and some Dropout regularisation\n",
        "regressor.add(LSTM(units = 50))\n",
        "regressor.add(Dropout(0.2))\n",
        "# Adding the output layer\n",
        "regressor.add(Dense(units = 1))\n",
        "# Compiling\n",
        "regressor.compile(optimizer = 'adam', loss = 'mean_squared_error')\n",
        "\n",
        "# 進行訓練\n",
        "regressor.fit(X_train, y_train, epochs = 65, batch_size = 32)"
      ],
      "metadata": {
        "colab": {
          "base_uri": "https://localhost:8080/"
        },
        "id": "IXDFRxS57l3z",
        "outputId": "b54cb5c3-0c9e-42fb-aaaf-571c0af6205f"
      },
      "execution_count": null,
      "outputs": [
        {
          "output_type": "stream",
          "name": "stdout",
          "text": [
            "Epoch 1/65\n",
            "38/38 [==============================] - 12s 102ms/step - loss: 0.0348\n",
            "Epoch 2/65\n",
            "38/38 [==============================] - 4s 109ms/step - loss: 0.0060\n",
            "Epoch 3/65\n",
            "38/38 [==============================] - 5s 124ms/step - loss: 0.0055\n",
            "Epoch 4/65\n",
            "38/38 [==============================] - 4s 113ms/step - loss: 0.0051\n",
            "Epoch 5/65\n",
            "38/38 [==============================] - 4s 118ms/step - loss: 0.0054\n",
            "Epoch 6/65\n",
            "38/38 [==============================] - 6s 163ms/step - loss: 0.0050\n",
            "Epoch 7/65\n",
            "38/38 [==============================] - 6s 147ms/step - loss: 0.0045\n",
            "Epoch 8/65\n",
            "38/38 [==============================] - 10s 253ms/step - loss: 0.0048\n",
            "Epoch 9/65\n",
            "38/38 [==============================] - 7s 181ms/step - loss: 0.0051\n",
            "Epoch 10/65\n",
            "38/38 [==============================] - 4s 104ms/step - loss: 0.0042\n",
            "Epoch 11/65\n",
            "38/38 [==============================] - 4s 104ms/step - loss: 0.0042\n",
            "Epoch 12/65\n",
            "38/38 [==============================] - 5s 135ms/step - loss: 0.0045\n",
            "Epoch 13/65\n",
            "38/38 [==============================] - 4s 103ms/step - loss: 0.0043\n",
            "Epoch 14/65\n",
            "38/38 [==============================] - 4s 102ms/step - loss: 0.0041\n",
            "Epoch 15/65\n",
            "38/38 [==============================] - 5s 134ms/step - loss: 0.0041\n",
            "Epoch 16/65\n",
            "38/38 [==============================] - 4s 103ms/step - loss: 0.0038\n",
            "Epoch 17/65\n",
            "38/38 [==============================] - 4s 102ms/step - loss: 0.0036\n",
            "Epoch 18/65\n",
            "38/38 [==============================] - 5s 133ms/step - loss: 0.0038\n",
            "Epoch 19/65\n",
            "38/38 [==============================] - 4s 104ms/step - loss: 0.0038\n",
            "Epoch 20/65\n",
            "38/38 [==============================] - 5s 140ms/step - loss: 0.0036\n",
            "Epoch 21/65\n",
            "38/38 [==============================] - 5s 135ms/step - loss: 0.0036\n",
            "Epoch 22/65\n",
            "38/38 [==============================] - 4s 103ms/step - loss: 0.0035\n",
            "Epoch 23/65\n",
            "38/38 [==============================] - 4s 105ms/step - loss: 0.0036\n",
            "Epoch 24/65\n",
            "38/38 [==============================] - 5s 132ms/step - loss: 0.0032\n",
            "Epoch 25/65\n",
            "38/38 [==============================] - 4s 105ms/step - loss: 0.0033\n",
            "Epoch 26/65\n",
            "38/38 [==============================] - 4s 114ms/step - loss: 0.0031\n",
            "Epoch 27/65\n",
            "38/38 [==============================] - 5s 124ms/step - loss: 0.0032\n",
            "Epoch 28/65\n",
            "38/38 [==============================] - 4s 104ms/step - loss: 0.0030\n",
            "Epoch 29/65\n",
            "38/38 [==============================] - 5s 142ms/step - loss: 0.0034\n",
            "Epoch 30/65\n",
            "38/38 [==============================] - 4s 107ms/step - loss: 0.0029\n",
            "Epoch 31/65\n",
            "38/38 [==============================] - 4s 116ms/step - loss: 0.0029\n",
            "Epoch 32/65\n",
            "38/38 [==============================] - 5s 134ms/step - loss: 0.0030\n",
            "Epoch 33/65\n",
            "38/38 [==============================] - 4s 103ms/step - loss: 0.0028\n",
            "Epoch 34/65\n",
            "38/38 [==============================] - 4s 102ms/step - loss: 0.0028\n",
            "Epoch 35/65\n",
            "38/38 [==============================] - 5s 133ms/step - loss: 0.0026\n",
            "Epoch 36/65\n",
            "38/38 [==============================] - 4s 103ms/step - loss: 0.0026\n",
            "Epoch 37/65\n",
            "38/38 [==============================] - 4s 103ms/step - loss: 0.0029\n",
            "Epoch 38/65\n",
            "38/38 [==============================] - 5s 135ms/step - loss: 0.0027\n",
            "Epoch 39/65\n",
            "38/38 [==============================] - 4s 103ms/step - loss: 0.0025\n",
            "Epoch 40/65\n",
            "38/38 [==============================] - 4s 103ms/step - loss: 0.0030\n",
            "Epoch 41/65\n",
            "38/38 [==============================] - 5s 132ms/step - loss: 0.0028\n",
            "Epoch 42/65\n",
            "38/38 [==============================] - 4s 103ms/step - loss: 0.0027\n",
            "Epoch 43/65\n",
            "38/38 [==============================] - 4s 103ms/step - loss: 0.0025\n",
            "Epoch 44/65\n",
            "38/38 [==============================] - 5s 133ms/step - loss: 0.0026\n",
            "Epoch 45/65\n",
            "38/38 [==============================] - 4s 101ms/step - loss: 0.0024\n",
            "Epoch 46/65\n",
            "38/38 [==============================] - 4s 104ms/step - loss: 0.0026\n",
            "Epoch 47/65\n",
            "38/38 [==============================] - 5s 132ms/step - loss: 0.0025\n",
            "Epoch 48/65\n",
            "38/38 [==============================] - 4s 102ms/step - loss: 0.0025\n",
            "Epoch 49/65\n",
            "38/38 [==============================] - 4s 103ms/step - loss: 0.0023\n",
            "Epoch 50/65\n",
            "38/38 [==============================] - 5s 133ms/step - loss: 0.0022\n",
            "Epoch 51/65\n",
            "38/38 [==============================] - 4s 102ms/step - loss: 0.0024\n",
            "Epoch 52/65\n",
            "38/38 [==============================] - 4s 102ms/step - loss: 0.0023\n",
            "Epoch 53/65\n",
            "38/38 [==============================] - 6s 147ms/step - loss: 0.0024\n",
            "Epoch 54/65\n",
            "38/38 [==============================] - 4s 101ms/step - loss: 0.0023\n",
            "Epoch 55/65\n",
            "38/38 [==============================] - 4s 102ms/step - loss: 0.0022\n",
            "Epoch 56/65\n",
            "38/38 [==============================] - 6s 164ms/step - loss: 0.0021\n",
            "Epoch 57/65\n",
            "38/38 [==============================] - 4s 102ms/step - loss: 0.0021\n",
            "Epoch 58/65\n",
            "38/38 [==============================] - 4s 108ms/step - loss: 0.0022\n",
            "Epoch 59/65\n",
            "38/38 [==============================] - 5s 124ms/step - loss: 0.0024\n",
            "Epoch 60/65\n",
            "38/38 [==============================] - 4s 103ms/step - loss: 0.0021\n",
            "Epoch 61/65\n",
            "38/38 [==============================] - 4s 111ms/step - loss: 0.0021\n",
            "Epoch 62/65\n",
            "38/38 [==============================] - 5s 122ms/step - loss: 0.0021\n",
            "Epoch 63/65\n",
            "38/38 [==============================] - 4s 104ms/step - loss: 0.0020\n",
            "Epoch 64/65\n",
            "38/38 [==============================] - 4s 114ms/step - loss: 0.0019\n",
            "Epoch 65/65\n",
            "38/38 [==============================] - 5s 119ms/step - loss: 0.0019\n"
          ]
        },
        {
          "output_type": "execute_result",
          "data": {
            "text/plain": [
              "<keras.src.callbacks.History at 0x7fb541bc08e0>"
            ]
          },
          "metadata": {},
          "execution_count": 18
        }
      ]
    },
    {
      "cell_type": "code",
      "source": [
        "dataset_test = pd.read_csv('Google_Stock_Price_Test.csv')\n",
        "real_stock_price = dataset_test.iloc[:, 1:2].values\n",
        "dataset_total = pd.concat((dataset_train['Open'], dataset_test['Open']), axis = 0)\n",
        "inputs = dataset_total[len(dataset_total) - len(dataset_test) - 60:].values\n",
        "inputs = inputs.reshape(-1,1)\n",
        "inputs = sc.transform(inputs) # Feature Scaling\n",
        "\n",
        "X_test = []\n",
        "for i in range(60, 80):  # timesteps一樣60； 80 = 先前的60天資料+2017年的20天資料\n",
        "    X_test.append(inputs[i-60:i, 0])\n",
        "X_test = np.array(X_test)\n",
        "X_test = np.reshape(X_test, (X_test.shape[0], X_test.shape[1], 1))  # Reshape 成 3-dimension\n",
        "predicted_stock_price = regressor.predict(X_test)\n",
        "predicted_stock_price = sc.inverse_transform(predicted_stock_price)  # to get the original scale\n"
      ],
      "metadata": {
        "colab": {
          "base_uri": "https://localhost:8080/"
        },
        "id": "3bzuVX_88vQB",
        "outputId": "6b38c3a8-4d3e-4117-818a-6d868335fc7a"
      },
      "execution_count": null,
      "outputs": [
        {
          "output_type": "stream",
          "name": "stdout",
          "text": [
            "1/1 [==============================] - 2s 2s/step\n"
          ]
        }
      ]
    },
    {
      "cell_type": "code",
      "source": [
        "# Visualising the results\n",
        "plt.plot(real_stock_price, color = 'red', label = 'Real Google Stock Price')  # 紅線表示真實股價\n",
        "plt.plot(predicted_stock_price, color = 'blue', label = 'Predicted Google Stock Price')  # 藍線表示預測股價\n",
        "plt.title('Google Stock Price Prediction')\n",
        "plt.xlabel('Time')\n",
        "plt.ylabel('Google Stock Price')\n",
        "plt.legend()\n",
        "plt.show()\n"
      ],
      "metadata": {
        "colab": {
          "base_uri": "https://localhost:8080/",
          "height": 472
        },
        "id": "z4r0fI5L8xMn",
        "outputId": "4b7e01dd-db5a-4c85-8d79-c6514ad133b2"
      },
      "execution_count": null,
      "outputs": [
        {
          "output_type": "display_data",
          "data": {
            "text/plain": [
              "<Figure size 640x480 with 1 Axes>"
            ],
            "image/png": "[encoded data removed]"
          },
          "metadata": {}
        }
      ]
    },
    {
      "cell_type": "markdown",
      "source": [
        "# 8."
      ],
      "metadata": {
        "id": "HcbAh3Py42mq"
      }
    },
    {
      "cell_type": "code",
      "source": [
        "from keras.layers import Input, Conv2D, MaxPooling2D, UpSampling2D\n",
        "from keras.models import Model\n",
        "from keras.models import Sequential\n",
        "from keras.datasets import mnist\n",
        "import numpy as np\n",
        "import matplotlib.pyplot as plt\n",
        "\n",
        "(x_train, _), (x_test, _) = mnist.load_data()\n",
        "x_train = x_train.astype('float32') / 255.\n",
        "x_test = x_test.astype('float32') / 255.\n",
        "x_train = np.reshape(x_train, (len(x_train), 28, 28, 1))\n",
        "x_test = np.reshape(x_test, (len(x_test), 28, 28, 1))\n",
        "\n",
        "#加入雜訊\n",
        "noise_factor = 0.5\n",
        "# numpy.random.normal 函數裡的三個參數分别代表生成的高斯分布的均值、標準差以及輸出的 size\n",
        "x_train_noisy = x_train + noise_factor * np.random.normal(loc=0.0, scale=1.0, size=x_train.shape)\n",
        "x_test_noisy = x_test + noise_factor * np.random.normal(loc=0.0, scale=1.0, size=x_test.shape)\n",
        "x_train_noisy = np.clip(x_train_noisy, 0., 1.)\n",
        "x_test_noisy = np.clip(x_test_noisy, 0., 1.)\n",
        "\n",
        "#autoencoder模型建立\n",
        "autoencoder=Sequential()\n",
        "#encoder\n",
        "autoencoder.add(Conv2D(filters=16, kernel_size=(3, 3), input_shape=(28, 28, 1), activation='relu', padding='same'))\n",
        "autoencoder.add(MaxPooling2D(pool_size=(2, 2), padding='same'))\n",
        "autoencoder.add(Conv2D(filters=8, kernel_size=(3, 3), activation='relu', padding='same'))\n",
        "autoencoder.add(MaxPooling2D(pool_size=(2, 2), padding='same'))\n",
        "autoencoder.add(Conv2D(filters=8, kernel_size=(3, 3), activation='relu', padding='same'))\n",
        "autoencoder.add(MaxPooling2D(pool_size=(2, 2), padding='same'))\n",
        "#Decoder\n",
        "autoencoder.add(Conv2D(filters=8, kernel_size=(3, 3), activation='relu', padding='same'))\n",
        "autoencoder.add(UpSampling2D((2, 2)))\n",
        "autoencoder.add(Conv2D(filters=8, kernel_size=(3, 3), activation='relu', padding='same'))\n",
        "autoencoder.add(UpSampling2D((2, 2)))\n",
        "autoencoder.add(Conv2D(filters=16, kernel_size=(3, 3), activation='relu'))\n",
        "autoencoder.add(UpSampling2D((2, 2)))\n",
        "autoencoder.add(Conv2D(filters=1, kernel_size=(3, 3), activation='sigmoid', padding='same'))\n",
        "\n",
        "# 編譯模型，optimizer 使用 adam，loss 使用 binary_crossentropy\n",
        "autoencoder.compile(optimizer='adam', loss='binary_crossentropy')\n",
        "\n",
        "# 訓練 Autoencoder ，輸入是加入雜訊的圖片，輸出是原始圖片\n",
        "autoencoder.fit(x_train_noisy, x_train, epochs=20, batch_size=128)\n",
        "\n",
        "#將有雜訊的測試影像丟入訓練好的模型進行訓練\n",
        "denoised_images = autoencoder.predict(x_test_noisy.reshape(x_test_noisy.shape[0], x_test_noisy.shape[1], x_test_noisy.shape[2], 1))\n",
        "\n",
        "#繪製圖形\n",
        "plt.figure(figsize=(20, 6))\n",
        "\n",
        "for i in range(10):\n",
        "    # 顯示圖片\n",
        "    ax = plt.subplot(3, 10, i+1)\n",
        "    plt.imshow(x_test[i].reshape(28,28))\n",
        "    plt.gray()\n",
        "    # 顯示加入噪聲後的圖片\n",
        "    ax = plt.subplot(3, 10, i+11)\n",
        "    plt.imshow(x_test_noisy[i].reshape(28, 28))\n",
        "    plt.gray()\n",
        "    # 顯示去噪後的圖片\n",
        "    ax = plt.subplot(3, 10, i+21)\n",
        "    plt.imshow(denoised_images[i].reshape(28, 28))\n",
        "    plt.gray()\n",
        "plt.show()\n"
      ],
      "metadata": {
        "colab": {
          "base_uri": "https://localhost:8080/",
          "height": 1000
        },
        "id": "4JEIrHdV444Y",
        "outputId": "28907915-491b-423f-f11d-c5d51aab4b4d"
      },
      "execution_count": null,
      "outputs": [
        {
          "output_type": "stream",
          "name": "stdout",
          "text": [
            "Epoch 1/20\n",
            "469/469 [==============================] - 66s 138ms/step - loss: 0.2488\n",
            "Epoch 2/20\n",
            "469/469 [==============================] - 65s 139ms/step - loss: 0.1720\n",
            "Epoch 3/20\n",
            "469/469 [==============================] - 65s 138ms/step - loss: 0.1596\n",
            "Epoch 4/20\n",
            "469/469 [==============================] - 64s 136ms/step - loss: 0.1520\n",
            "Epoch 5/20\n",
            "469/469 [==============================] - 64s 137ms/step - loss: 0.1464\n",
            "Epoch 6/20\n",
            "469/469 [==============================] - 64s 137ms/step - loss: 0.1424\n",
            "Epoch 7/20\n",
            "469/469 [==============================] - 64s 136ms/step - loss: 0.1394\n",
            "Epoch 8/20\n",
            "469/469 [==============================] - 66s 141ms/step - loss: 0.1370\n",
            "Epoch 9/20\n",
            "469/469 [==============================] - 64s 137ms/step - loss: 0.1352\n",
            "Epoch 10/20\n",
            "469/469 [==============================] - 63s 134ms/step - loss: 0.1337\n",
            "Epoch 11/20\n",
            "469/469 [==============================] - 58s 124ms/step - loss: 0.1325\n",
            "Epoch 12/20\n",
            "469/469 [==============================] - 64s 137ms/step - loss: 0.1313\n",
            "Epoch 13/20\n",
            "469/469 [==============================] - 65s 138ms/step - loss: 0.1302\n",
            "Epoch 14/20\n",
            "469/469 [==============================] - 67s 142ms/step - loss: 0.1293\n",
            "Epoch 15/20\n",
            "469/469 [==============================] - 63s 134ms/step - loss: 0.1285\n",
            "Epoch 16/20\n",
            "469/469 [==============================] - 60s 129ms/step - loss: 0.1277\n",
            "Epoch 17/20\n",
            "469/469 [==============================] - 59s 126ms/step - loss: 0.1271\n",
            "Epoch 18/20\n",
            "469/469 [==============================] - 61s 129ms/step - loss: 0.1266\n",
            "Epoch 19/20\n",
            "469/469 [==============================] - 64s 136ms/step - loss: 0.1260\n",
            "Epoch 20/20\n",
            "469/469 [==============================] - 66s 141ms/step - loss: 0.1255\n",
            "313/313 [==============================] - 3s 10ms/step\n"
          ]
        },
        {
          "output_type": "display_data",
          "data": {
            "text/plain": [
              "<Figure size 2000x600 with 30 Axes>"
            ],
            "image/png": "[encoded data removed]"
          },
          "metadata": {}
        }
      ]
    }
  ]
}